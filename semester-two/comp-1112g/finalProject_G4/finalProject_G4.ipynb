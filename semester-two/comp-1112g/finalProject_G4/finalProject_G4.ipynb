{
 "cells": [
  {
   "cell_type": "code",
   "execution_count": null,
   "id": "246dbb6a",
   "metadata": {},
   "outputs": [],
   "source": [
    "# Final Project (Project 2)\n",
    "# 2024-04-06\n",
    "#Colton.C, Connor.R, Troy.B\n",
    "\n",
    "print(\"Hello zWorld!\")\n",
    "\n",
    "i = 5\n",
    "if i == 5:\n",
    "    print (\"i = 5\")\n",
    "else:\n",
    "    print (\"i != 5\")"
   ]
  }
 ],
 "metadata": {
  "kernelspec": {
   "display_name": "Python 3 (ipykernel)",
   "language": "python",
   "name": "python3"
  },
  "language_info": {
   "codemirror_mode": {
    "name": "ipython",
    "version": 3
   },
   "file_extension": ".py",
   "mimetype": "text/x-python",
   "name": "python",
   "nbconvert_exporter": "python",
   "pygments_lexer": "ipython3",
   "version": "3.12.1"
  }
 },
 "nbformat": 4,
 "nbformat_minor": 5
}
